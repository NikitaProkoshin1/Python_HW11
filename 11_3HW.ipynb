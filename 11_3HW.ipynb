{
  "metadata": {
    "language_info": {
      "codemirror_mode": {
        "name": "python",
        "version": 3
      },
      "file_extension": ".py",
      "mimetype": "text/x-python",
      "name": "python",
      "nbconvert_exporter": "python",
      "pygments_lexer": "ipython3",
      "version": "3.8"
    },
    "kernelspec": {
      "name": "python",
      "display_name": "Python (Pyodide)",
      "language": "python"
    },
    "toc-showcode": true,
    "toc-autonumbering": false,
    "toc-showmarkdowntxt": false
  },
  "nbformat_minor": 4,
  "nbformat": 4,
  "cells": [
    {
      "cell_type": "code",
      "source": "from sympy import *\nfrom sympy.plotting import plot\nx = Symbol('x', real=True)",
      "metadata": {
        "tags": [],
        "trusted": true
      },
      "execution_count": 10,
      "outputs": []
    },
    {
      "cell_type": "code",
      "source": "# 1) Определить корни:\nsolve(f, x, domain=S.Reals)",
      "metadata": {
        "tags": [],
        "trusted": true
      },
      "execution_count": 4,
      "outputs": [
        {
          "execution_count": 4,
          "output_type": "execute_result",
          "data": {
            "text/plain": "[]"
          },
          "metadata": {}
        }
      ]
    },
    {
      "cell_type": "code",
      "source": "# 2) Найти интервалы, на которых функция возрастает:\n# 3) Найти интервалы, на которых функция убывает:\nf_area=[-oo,oo]\nf_area[1:1]=solveset(diff(f), x, domain=S.Reals).evalf(2)\nf_increase = []\nf_decrease = []\nfor i in range(1, len(f_area)):\n    if is_increasing(f,Interval.open(f_area[i-1], f_area[i])):\n        f_increase.append(f'от {f_area[i-1]} до {f_area[i]}')\n    else:\n        f_decrease.append(f'от {f_area[i-1]} до {f_area[i]}')\nprint(f'Функция возрастает в промежутке {f_increase[0]} и {f_increase[1]}.')\nprint(f'Функция убывает в промежутке {f_decrease[0]}.')",
      "metadata": {
        "tags": [],
        "trusted": true
      },
      "execution_count": 5,
      "outputs": [
        {
          "name": "stdout",
          "text": "Функция возрастает в промежутке от -oo до -3.0 и от 1.0 до oo.\nФункция убывает в промежутке от -3.0 до 1.0.\n",
          "output_type": "stream"
        }
      ]
    },
    {
      "cell_type": "code",
      "source": "# 4) Построить график:\nplot(f, (x,-4, 2), ylim=(-20, 20))",
      "metadata": {
        "tags": [],
        "trusted": true
      },
      "execution_count": 6,
      "outputs": [
        {
          "output_type": "display_data",
          "data": {
            "text/plain": "<pyolite.display.Image at 0x44c5b10>",
            "image/png": "[encoded data removed]"
          },
          "metadata": {}
        },
        {
          "execution_count": 6,
          "output_type": "execute_result",
          "data": {
            "text/plain": "<sympy.plotting.plot.Plot at 0x3c358e0>"
          },
          "metadata": {}
        }
      ]
    },
    {
      "cell_type": "code",
      "source": "# 5) Вычислить вершину:\nf_area=solveset(diff(f), x)\nf_vertex = []\nfor i in f_area:\n    f_check = f.subs(x,i)\n    if f_check <0:\n        f_vertex.append(f'({i.evalf(2)}, {f_check.evalf(2)})')\n    elif f_check>0:\n        f_vertex.append(f'({i.evalf(2)}, {f_check.evalf(2)})')\n    else:\n        f_vertex.append(f'({i.evalf(2)}, {f_check.evalf(2)})')\nprint(f'Координаты вершины графика {f_vertex[0]} и {f_vertex[1]}.')",
      "metadata": {
        "tags": [],
        "trusted": true
      },
      "execution_count": 7,
      "outputs": [
        {
          "name": "stdout",
          "text": "Координаты вершины графика (-3.0, -2.0) и (1.0, 0.67).\n",
          "output_type": "stream"
        }
      ]
    },
    {
      "cell_type": "code",
      "source": "# 6) Определить промежутки, на котором f > 0:\nsolveset(f>0, x, domain=S.Reals)\n",
      "metadata": {
        "tags": [],
        "trusted": true
      },
      "execution_count": 8,
      "outputs": [
        {
          "execution_count": 8,
          "output_type": "execute_result",
          "data": {
            "text/plain": "Interval.open(-1, oo)",
            "text/latex": "$\\displaystyle \\left(-1, \\infty\\right)$"
          },
          "metadata": {}
        }
      ]
    },
    {
      "cell_type": "code",
      "source": "# 7) Определить промежутки, на котором f < 0:\nsolveset(f<0, x, domain=S.Reals)",
      "metadata": {
        "tags": [],
        "trusted": true
      },
      "execution_count": 9,
      "outputs": [
        {
          "execution_count": 9,
          "output_type": "execute_result",
          "data": {
            "text/plain": "Interval.open(-oo, -1)",
            "text/latex": "$\\displaystyle \\left(-\\infty, -1\\right)$"
          },
          "metadata": {}
        }
      ]
    }
  ]
}