{
  "metadata": {
    "language_info": {
      "codemirror_mode": {
        "name": "python",
        "version": 3
      },
      "file_extension": ".py",
      "mimetype": "text/x-python",
      "name": "python",
      "nbconvert_exporter": "python",
      "pygments_lexer": "ipython3",
      "version": "3.8"
    },
    "kernelspec": {
      "name": "python",
      "display_name": "Python (Pyodide)",
      "language": "python"
    }
  },
  "nbformat_minor": 4,
  "nbformat": 4,
  "cells": [
    {
      "cell_type": "code",
      "source": "from sympy import *\nfrom sympy.plotting import plot\nx = Symbol('x', real=True)",
      "metadata": {
        "trusted": true
      },
      "execution_count": 2,
      "outputs": []
    },
    {
      "cell_type": "code",
      "source": "# Функция:\nf = -18 * x ** 3 + 5 * x ** 2 + 10 * x - 30",
      "metadata": {
        "trusted": true
      },
      "execution_count": 3,
      "outputs": []
    },
    {
      "cell_type": "code",
      "source": "# 1) Определить корни:\nsolveset(f, x, domain=S.Reals).evalf(3)\n",
      "metadata": {
        "trusted": true
      },
      "execution_count": 5,
      "outputs": [
        {
          "execution_count": 5,
          "output_type": "execute_result",
          "data": {
            "text/plain": "{-1.24}",
            "text/latex": "$\\displaystyle \\left\\{-1.24\\right\\}$"
          },
          "metadata": {}
        }
      ]
    },
    {
      "cell_type": "code",
      "source": "# 2) Найти интервалы, на которых функция возрастает:\n# 3) Найти интервалы, на которых функция убывает:\nf_area=[-oo,oo]\nf_area[1:1]=solveset(diff(f),x, domain=S.Reals).evalf(2)\nf_increase = []\nf_decrease = []\nfor i in range(1, len(f_area)):\n    if is_increasing(f,Interval.open(f_area[i-1], f_area[i])):\n        f_increase.append(f'от {f_area[i-1]} до {f_area[i]}')\n    else:\n        f_decrease.append(f'от {f_area[i-1]} до {f_area[i]}')\nprint(f'Функция возрастает в промежутке {f_increase[0]}.')\nprint(f'Функция убывает в промежутке {f_decrease[0]} и {f_decrease[1]}.')",
      "metadata": {
        "trusted": true
      },
      "execution_count": 6,
      "outputs": [
        {
          "name": "stdout",
          "text": "Функция возрастает в промежутке от -0.35 до 0.53.\nФункция убывает в промежутке от -oo до -0.35 и от 0.53 до oo.\n",
          "output_type": "stream"
        }
      ]
    },
    {
      "cell_type": "code",
      "source": "# 4) Построить график:\nplot(f,(x,-2,2))",
      "metadata": {
        "trusted": true
      },
      "execution_count": 7,
      "outputs": [
        {
          "output_type": "display_data",
          "data": {
            "text/plain": "<pyolite.display.Image at 0x4396738>",
            "image/png": "[encoded data removed]"
          },
          "metadata": {}
        },
        {
          "execution_count": 7,
          "output_type": "execute_result",
          "data": {
            "text/plain": "<sympy.plotting.plot.Plot at 0x4450318>"
          },
          "metadata": {}
        }
      ]
    },
    {
      "cell_type": "code",
      "source": "# 5) Вычислить вершину:\nf_area=solveset(diff(f), x)\nf_vertex = []\nfor i in f_area:\n    f_check = f.subs(x,i)\n    if f_check <0:\n        f_vertex.append(f'({i.evalf(2)}, {f_check.evalf(2)})')\n    elif f_check>0:\n        f_vertex.append(f'({i.evalf(2)}, {f_check.evalf(2)})')\n    else:\n        f_vertex.append(f'({i.evalf(2)}, {f_check.evalf(2)})')\nprint(f'Координаты вершины графика {f_vertex[0]} и {f_vertex[1]}.')",
      "metadata": {
        "trusted": true
      },
      "execution_count": 9,
      "outputs": [
        {
          "name": "stdout",
          "text": "Координаты вершины графика (-0.35, -32) и (0.53, -26).\n",
          "output_type": "stream"
        }
      ]
    },
    {
      "cell_type": "code",
      "source": "# 6) Определить промежутки, на котором f > 0:\nsolveset(f>0, x, domain=S.Reals).evalf(3)",
      "metadata": {
        "trusted": true
      },
      "execution_count": 11,
      "outputs": [
        {
          "execution_count": 11,
          "output_type": "execute_result",
          "data": {
            "text/plain": "Interval.open(-oo, -1.24)",
            "text/latex": "$\\displaystyle \\left(-\\infty, -1.24\\right)$"
          },
          "metadata": {}
        }
      ]
    },
    {
      "cell_type": "code",
      "source": "# 7) Определить промежутки, на котором f < 0:\nsolveset(f<0, x, domain=S.Reals).evalf(3)",
      "metadata": {
        "trusted": true
      },
      "execution_count": 12,
      "outputs": [
        {
          "execution_count": 12,
          "output_type": "execute_result",
          "data": {
            "text/plain": "Interval.open(-1.24, oo)",
            "text/latex": "$\\displaystyle \\left(-1.24, \\infty\\right)$"
          },
          "metadata": {}
        }
      ]
    }
  ]
}